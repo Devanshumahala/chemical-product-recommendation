{
 "cells": [
  {
   "cell_type": "code",
   "execution_count": 41,
   "id": "b10574b9",
   "metadata": {},
   "outputs": [
    {
     "data": {
      "text/html": [
       "<div>\n",
       "<style scoped>\n",
       "    .dataframe tbody tr th:only-of-type {\n",
       "        vertical-align: middle;\n",
       "    }\n",
       "\n",
       "    .dataframe tbody tr th {\n",
       "        vertical-align: top;\n",
       "    }\n",
       "\n",
       "    .dataframe thead th {\n",
       "        text-align: right;\n",
       "    }\n",
       "</style>\n",
       "<table border=\"1\" class=\"dataframe\">\n",
       "  <thead>\n",
       "    <tr style=\"text-align: right;\">\n",
       "      <th></th>\n",
       "      <th>Label</th>\n",
       "      <th>Brand</th>\n",
       "      <th>Name</th>\n",
       "      <th>Price</th>\n",
       "      <th>Rank</th>\n",
       "      <th>Ingredients</th>\n",
       "      <th>Combination</th>\n",
       "      <th>Dry</th>\n",
       "      <th>Normal</th>\n",
       "      <th>Oily</th>\n",
       "      <th>Sensitive</th>\n",
       "    </tr>\n",
       "  </thead>\n",
       "  <tbody>\n",
       "    <tr>\n",
       "      <th>1140</th>\n",
       "      <td>Eye cream</td>\n",
       "      <td>ESTÉE LAUDER</td>\n",
       "      <td>Advanced Night Repair Eye Serum Synchronized C...</td>\n",
       "      <td>66</td>\n",
       "      <td>3.5</td>\n",
       "      <td>Advanced Night Rp Eye Sr Syn Cmpii Division: E...</td>\n",
       "      <td>1</td>\n",
       "      <td>1</td>\n",
       "      <td>1</td>\n",
       "      <td>1</td>\n",
       "      <td>1</td>\n",
       "    </tr>\n",
       "    <tr>\n",
       "      <th>218</th>\n",
       "      <td>Moisturizer</td>\n",
       "      <td>JOSIE MARAN</td>\n",
       "      <td>Argan Cleansing Oil</td>\n",
       "      <td>32</td>\n",
       "      <td>4.1</td>\n",
       "      <td>Helianthus Annuus (Sunflower) Seed Oil**, Poly...</td>\n",
       "      <td>1</td>\n",
       "      <td>1</td>\n",
       "      <td>1</td>\n",
       "      <td>1</td>\n",
       "      <td>1</td>\n",
       "    </tr>\n",
       "    <tr>\n",
       "      <th>367</th>\n",
       "      <td>Cleanser</td>\n",
       "      <td>LANCER</td>\n",
       "      <td>The Method: Polish</td>\n",
       "      <td>75</td>\n",
       "      <td>4.6</td>\n",
       "      <td>Butylene Glycol, Sodium Bicarbonate, PEG-8, Ma...</td>\n",
       "      <td>1</td>\n",
       "      <td>0</td>\n",
       "      <td>1</td>\n",
       "      <td>0</td>\n",
       "      <td>0</td>\n",
       "    </tr>\n",
       "    <tr>\n",
       "      <th>1362</th>\n",
       "      <td>Sun protect</td>\n",
       "      <td>SUPERGOOP!</td>\n",
       "      <td>Supergoop! x Milly Defense Refresh Setting Mis...</td>\n",
       "      <td>28</td>\n",
       "      <td>3.7</td>\n",
       "      <td>Visit the Supergoop! boutique</td>\n",
       "      <td>1</td>\n",
       "      <td>1</td>\n",
       "      <td>1</td>\n",
       "      <td>1</td>\n",
       "      <td>1</td>\n",
       "    </tr>\n",
       "    <tr>\n",
       "      <th>391</th>\n",
       "      <td>Cleanser</td>\n",
       "      <td>IT COSMETICS</td>\n",
       "      <td>Confidence in a Cleanser™ Skin-Transforming Hy...</td>\n",
       "      <td>28</td>\n",
       "      <td>4.7</td>\n",
       "      <td>Water, Disodium Cocoamphodiacetate, Glycerin, ...</td>\n",
       "      <td>1</td>\n",
       "      <td>1</td>\n",
       "      <td>1</td>\n",
       "      <td>1</td>\n",
       "      <td>1</td>\n",
       "    </tr>\n",
       "  </tbody>\n",
       "</table>\n",
       "</div>"
      ],
      "text/plain": [
       "            Label         Brand  \\\n",
       "1140    Eye cream  ESTÉE LAUDER   \n",
       "218   Moisturizer   JOSIE MARAN   \n",
       "367      Cleanser        LANCER   \n",
       "1362  Sun protect    SUPERGOOP!   \n",
       "391      Cleanser  IT COSMETICS   \n",
       "\n",
       "                                                   Name  Price  Rank  \\\n",
       "1140  Advanced Night Repair Eye Serum Synchronized C...     66   3.5   \n",
       "218                                 Argan Cleansing Oil     32   4.1   \n",
       "367                                  The Method: Polish     75   4.6   \n",
       "1362  Supergoop! x Milly Defense Refresh Setting Mis...     28   3.7   \n",
       "391   Confidence in a Cleanser™ Skin-Transforming Hy...     28   4.7   \n",
       "\n",
       "                                            Ingredients  Combination  Dry  \\\n",
       "1140  Advanced Night Rp Eye Sr Syn Cmpii Division: E...            1    1   \n",
       "218   Helianthus Annuus (Sunflower) Seed Oil**, Poly...            1    1   \n",
       "367   Butylene Glycol, Sodium Bicarbonate, PEG-8, Ma...            1    0   \n",
       "1362                      Visit the Supergoop! boutique            1    1   \n",
       "391   Water, Disodium Cocoamphodiacetate, Glycerin, ...            1    1   \n",
       "\n",
       "      Normal  Oily  Sensitive  \n",
       "1140       1     1          1  \n",
       "218        1     1          1  \n",
       "367        1     0          0  \n",
       "1362       1     1          1  \n",
       "391        1     1          1  "
      ]
     },
     "metadata": {},
     "output_type": "display_data"
    },
    {
     "name": "stdout",
     "output_type": "stream",
     "text": [
      "Label\n",
      "Moisturizer    298\n",
      "Cleanser       281\n",
      "Face Mask      266\n",
      "Treatment      248\n",
      "Eye cream      209\n",
      "Sun protect    170\n",
      "Name: count, dtype: int64\n"
     ]
    }
   ],
   "source": [
    "import pandas as pd\n",
    "import numpy as np\n",
    "from sklearn.manifold import TSNE\n",
    "\n",
    "df = pd.read_csv(\"datasets/cosmetics.csv\")\n",
    "display(df.sample(5))\n",
    "print(df['Label'].value_counts())\n"
   ]
  },
  {
   "cell_type": "code",
   "execution_count": 42,
   "id": "361ccbfa",
   "metadata": {},
   "outputs": [],
   "source": [
    "moisturizers = df[df['Label'] == 'Moisturizer']\n",
    "moisturizers_dry = moisturizers[moisturizers['Dry'] == 1]\n",
    "moisturizers_dry = moisturizers_dry.reset_index(drop=True)\n"
   ]
  },
  {
   "cell_type": "code",
   "execution_count": 43,
   "id": "650901d5",
   "metadata": {},
   "outputs": [],
   "source": [
    "corpus = []\n",
    "ingredient_idx = {}\n",
    "idx = 0\n",
    "\n",
    "for row in moisturizers_dry['Ingredients']:\n",
    "    tokens = row.lower().split(', ')\n",
    "    corpus.append(tokens)\n",
    "    for ingredient in tokens:\n",
    "        if ingredient not in ingredient_idx:\n",
    "            ingredient_idx[ingredient] = idx\n",
    "            idx += 1\n"
   ]
  },
  {
   "cell_type": "code",
   "execution_count": 44,
   "id": "d414df52",
   "metadata": {},
   "outputs": [],
   "source": [
    "M = len(corpus)\n",
    "N = len(ingredient_idx)\n",
    "A = np.zeros((M, N))\n"
   ]
  },
  {
   "cell_type": "code",
   "execution_count": 45,
   "id": "7fc68569",
   "metadata": {},
   "outputs": [],
   "source": [
    "def oh_encoder(tokens):\n",
    "    x = np.zeros(N)\n",
    "    for ing in tokens:\n",
    "        index = ingredient_idx[ing]\n",
    "        x[index] = 1\n",
    "    return x\n"
   ]
  },
  {
   "cell_type": "code",
   "execution_count": 46,
   "id": "59ed4b8c",
   "metadata": {},
   "outputs": [],
   "source": [
    "for i in range(M):\n",
    "    x = oh_encoder(corpus[i])\n",
    "    A[i] = x\n"
   ]
  },
  {
   "cell_type": "code",
   "execution_count": 47,
   "id": "63c0869b",
   "metadata": {},
   "outputs": [],
   "source": [
    "import os\n",
    "from sklearn.manifold import TSNE\n",
    "\n",
    "# 🔧 Fix OpenBLAS thread issue\n",
    "os.environ[\"OMP_NUM_THREADS\"] = \"1\"\n",
    "\n",
    "# 🔍 Select only numeric columns for t-SNE input\n",
    "A = moisturizers_dry[['Combination', 'Dry', 'Normal', 'Oily', 'Sensitive']].copy()\n",
    "A = A.dropna()  # drop rows with missing values if any\n",
    "\n",
    "# 🔄 Sync moisturizers_dry with A\n",
    "moisturizers_dry = moisturizers_dry.loc[A.index]\n",
    "\n",
    "# ✅ Run t-SNE\n",
    "model = TSNE(n_components=2, learning_rate=200, random_state=42)\n",
    "tsne_features = model.fit_transform(A)\n",
    "\n",
    "# 🧭 Assign coordinates to DataFrame\n",
    "moisturizers_dry['X'] = tsne_features[:, 0]\n",
    "moisturizers_dry['Y'] = tsne_features[:, 1]\n",
    "\n",
    "\n"
   ]
  },
  {
   "cell_type": "code",
   "execution_count": 48,
   "id": "430e5459",
   "metadata": {},
   "outputs": [
    {
     "name": "stdout",
     "output_type": "stream",
     "text": [
      "❌ Product not found! Check the spelling.\n"
     ]
    }
   ],
   "source": [
    "# ✅ FINAL RECOMMENDATION BLOCK\n",
    "\n",
    "from sklearn.metrics.pairwise import euclidean_distances\n",
    "\n",
    "# 🔍 Product name from dataset — match exactly\n",
    "product_name = \"Clear Genius Clarifying Gel Cleanser\"\n",
    "\n",
    "# ✅ Check if it exists in the dataset\n",
    "if product_name in moisturizers_dry['Name'].values:\n",
    "    # Get index of the selected product\n",
    "    product_index = moisturizers_dry[moisturizers_dry['Name'] == product_name].index[0]\n",
    "\n",
    "    # Calculate Euclidean distance from this product to all others\n",
    "    distances = euclidean_distances(\n",
    "        moisturizers_dry[['X', 'Y']],\n",
    "        moisturizers_dry[['X', 'Y']].iloc[[product_index]]\n",
    "    ).reshape(-1)\n",
    "\n",
    "    # Get top 5 closest products (excluding the selected one)\n",
    "    similar_indices = distances.argsort()[1:6]\n",
    "\n",
    "    # Display recommended products\n",
    "    recommendations = moisturizers_dry.iloc[similar_indices][['Name', 'Brand', 'Price', 'Ingredients']]\n",
    "    print(f\"🔁 Recommended Products similar to: {product_name}\")\n",
    "    display(recommendations)\n",
    "\n",
    "else:\n",
    "    print(\"❌ Product not found! Check the spelling.\")\n",
    "\n"
   ]
  },
  {
   "cell_type": "code",
   "execution_count": 49,
   "id": "7893e519",
   "metadata": {},
   "outputs": [
    {
     "name": "stdout",
     "output_type": "stream",
     "text": [
      "⭐️ Recommended Product Based on Dry Skin Analysis:\n",
      "\n",
      "            Brand                        Name  Price  Rank  \\\n",
      "2  DRUNK ELEPHANT  Protini™ Polypeptide Cream     68   4.4   \n",
      "\n",
      "                                         Ingredients  \n",
      "2  Water, Dicaprylyl Carbonate, Glycerin, Ceteary...  \n"
     ]
    }
   ],
   "source": [
    "# ✅ Final Product Recommendation & Display\n",
    "product_name = \"Polypeptide Cream\"  # ← Change to any product name from dataset\n",
    "recommended_product = moisturizers_dry[moisturizers_dry['Name'].str.contains(product_name, case=False)]\n",
    "\n",
    "if not recommended_product.empty:\n",
    "    print(\"⭐️ Recommended Product Based on Dry Skin Analysis:\\n\")\n",
    "    print(recommended_product[['Brand', 'Name', 'Price', 'Rank', 'Ingredients']])\n",
    "else:\n",
    "    print(\"⚠️ Product not found. Please check the name spelling.\")\n",
    "\n"
   ]
  },
  {
   "cell_type": "code",
   "execution_count": 50,
   "id": "1f133b12",
   "metadata": {},
   "outputs": [
    {
     "name": "stdout",
     "output_type": "stream",
     "text": [
      "✅ Project Summary:\n",
      "\n",
      "Step 1: Filtered products suitable for Dry skin type.\n",
      "Step 2: Applied t-SNE to reduce high-dimensional features to 2D.\n",
      "Step 3: Visualized the results using Bokeh interactive plot.\n",
      "Step 4: Displayed product details for a given input name.\n"
     ]
    }
   ],
   "source": [
    "print(\"✅ Project Summary:\\n\")\n",
    "print(\"Step 1: Filtered products suitable for Dry skin type.\")\n",
    "print(\"Step 2: Applied t-SNE to reduce high-dimensional features to 2D.\")\n",
    "print(\"Step 3: Visualized the results using Bokeh interactive plot.\")\n",
    "print(\"Step 4: Displayed product details for a given input name.\")\n",
    "\n"
   ]
  }
 ],
 "metadata": {
  "kernelspec": {
   "display_name": "base",
   "language": "python",
   "name": "python3"
  },
  "language_info": {
   "codemirror_mode": {
    "name": "ipython",
    "version": 3
   },
   "file_extension": ".py",
   "mimetype": "text/x-python",
   "name": "python",
   "nbconvert_exporter": "python",
   "pygments_lexer": "ipython3",
   "version": "3.12.4"
  }
 },
 "nbformat": 4,
 "nbformat_minor": 5
}
